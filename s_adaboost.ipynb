{
 "cells": [
  {
   "cell_type": "code",
   "execution_count": 1,
   "metadata": {},
   "outputs": [
    {
     "name": "stderr",
     "output_type": "stream",
     "text": [
      "2023-11-28 00:36:03.631643: I tensorflow/core/util/port.cc:111] oneDNN custom operations are on. You may see slightly different numerical results due to floating-point round-off errors from different computation orders. To turn them off, set the environment variable `TF_ENABLE_ONEDNN_OPTS=0`.\n",
      "2023-11-28 00:36:03.678033: E tensorflow/compiler/xla/stream_executor/cuda/cuda_dnn.cc:9342] Unable to register cuDNN factory: Attempting to register factory for plugin cuDNN when one has already been registered\n",
      "2023-11-28 00:36:03.678066: E tensorflow/compiler/xla/stream_executor/cuda/cuda_fft.cc:609] Unable to register cuFFT factory: Attempting to register factory for plugin cuFFT when one has already been registered\n",
      "2023-11-28 00:36:03.678110: E tensorflow/compiler/xla/stream_executor/cuda/cuda_blas.cc:1518] Unable to register cuBLAS factory: Attempting to register factory for plugin cuBLAS when one has already been registered\n",
      "2023-11-28 00:36:03.687164: I tensorflow/core/platform/cpu_feature_guard.cc:182] This TensorFlow binary is optimized to use available CPU instructions in performance-critical operations.\n",
      "To enable the following instructions: AVX2 AVX512F AVX512_VNNI FMA, in other operations, rebuild TensorFlow with the appropriate compiler flags.\n",
      "2023-11-28 00:36:04.545284: W tensorflow/compiler/tf2tensorrt/utils/py_utils.cc:38] TF-TRT Warning: Could not find TensorRT\n"
     ]
    }
   ],
   "source": [
    "import os\n",
    "import warnings\n",
    "import pandas as pd\n",
    "import numpy as np\n",
    "from sklearn.linear_model import Ridge\n",
    "from sklearn.tree import DecisionTreeRegressor\n",
    "from sklearn.ensemble import AdaBoostRegressor\n",
    "from sklearn.preprocessing import MinMaxScaler\n",
    "from sklearn.model_selection import GridSearchCV\n",
    "from tools import calculate_nse, calculate_mse, calculate_rmse, calculate_mae, calculate_mape, calculate_si\n",
    "\n",
    "os.environ[\"CUDA_VISIBLE_DEVICES\"] = \"0\"\n",
    "warnings.filterwarnings(\"ignore\")\n",
    "import tensorflow as tf\n",
    "physical_devices = tf.config.list_physical_devices('GPU')\n",
    "tf.config.experimental.set_memory_growth(physical_devices[0], True)\n"
   ]
  },
  {
   "cell_type": "code",
   "execution_count": 2,
   "metadata": {},
   "outputs": [],
   "source": [
    "# 读取数据集\n",
    "datalabel210103 = pd.read_excel('fakoulabeldata/202101-03.xls')\n",
    "datalabel210406 = pd.read_excel('fakoulabeldata/202104-06.xls')\n",
    "datalabel210709 = pd.read_excel('fakoulabeldata/202107-09.xls')\n",
    "datalabel220103 = pd.read_excel('fakoulabeldata/202201-03.xls')\n",
    "datalabel220406 = pd.read_excel('fakoulabeldata/202204-06.xls')\n",
    "datalabel220709 = pd.read_excel('fakoulabeldata/202207-09.xls')\n",
    "datalabel221012 = pd.read_excel('fakoulabeldata/202210-12.xls')\n",
    "datalabel230103 = pd.read_excel('fakoulabeldata/202301-03.xls')\n",
    "datalabel230406 = pd.read_excel('fakoulabeldata/202304-06.xls')\n",
    "datalabel230709 = pd.read_excel('fakoulabeldata/202307-09.xls')\n",
    "\n",
    "frame = (datalabel210103.iloc[:,:65333],datalabel210406.iloc[:,:65529],datalabel210709.iloc[:,:65530],\n",
    "       datalabel220103.iloc[:,:65531],datalabel220406.iloc[:,:65525],datalabel220709.iloc[:,:65517],\n",
    "       datalabel221012.iloc[:,:65522],datalabel230103.iloc[:,:65503],datalabel230406.iloc[:,:65495],\n",
    "       datalabel230709.iloc[:,:65534])\n",
    "\n",
    "all_data = pd.concat(frame, ignore_index=True)\n",
    "selected_data = all_data.iloc[:,1]\n",
    "selected_data = np.r_[selected_data].reshape(-1, 1)\n",
    "\n",
    "# 归一化数据\n",
    "scaler = MinMaxScaler(feature_range=(0, 1))\n",
    "selected_data = scaler.fit_transform(selected_data)\n",
    "lookback = 8\n",
    "# 将数据转换为适用于LSTM的输入格式\n",
    "def create_dataset(dataset):\n",
    "    X, y = [], []\n",
    "    for i in range(len(dataset) - lookback):\n",
    "        X.append(dataset[i:i+lookback])\n",
    "        y.append(dataset[i+lookback])\n",
    "    return np.array(X), np.array(y).reshape(-1, 1)"
   ]
  },
  {
   "cell_type": "code",
   "execution_count": 3,
   "metadata": {},
   "outputs": [],
   "source": [
    "X, y = create_dataset(selected_data)\n",
    "X = np.reshape(X, (X.shape[0], -1))\n",
    "\n",
    "train_size = int(len(X)*0.8)\n",
    "X_train, y_train = X[:train_size], y[:train_size]\n",
    "X_test, y_test = X[train_size:], y[train_size:]\n",
    "np.random.seed(2023)\n",
    "shuffle_indices = np.random.permutation(len(X_train))\n",
    "X_train = X_train[shuffle_indices]\n",
    "y_train = y_train[shuffle_indices]"
   ]
  },
  {
   "cell_type": "code",
   "execution_count": 16,
   "metadata": {},
   "outputs": [
    {
     "data": {
      "text/html": [
       "<style>#sk-container-id-5 {color: black;}#sk-container-id-5 pre{padding: 0;}#sk-container-id-5 div.sk-toggleable {background-color: white;}#sk-container-id-5 label.sk-toggleable__label {cursor: pointer;display: block;width: 100%;margin-bottom: 0;padding: 0.3em;box-sizing: border-box;text-align: center;}#sk-container-id-5 label.sk-toggleable__label-arrow:before {content: \"▸\";float: left;margin-right: 0.25em;color: #696969;}#sk-container-id-5 label.sk-toggleable__label-arrow:hover:before {color: black;}#sk-container-id-5 div.sk-estimator:hover label.sk-toggleable__label-arrow:before {color: black;}#sk-container-id-5 div.sk-toggleable__content {max-height: 0;max-width: 0;overflow: hidden;text-align: left;background-color: #f0f8ff;}#sk-container-id-5 div.sk-toggleable__content pre {margin: 0.2em;color: black;border-radius: 0.25em;background-color: #f0f8ff;}#sk-container-id-5 input.sk-toggleable__control:checked~div.sk-toggleable__content {max-height: 200px;max-width: 100%;overflow: auto;}#sk-container-id-5 input.sk-toggleable__control:checked~label.sk-toggleable__label-arrow:before {content: \"▾\";}#sk-container-id-5 div.sk-estimator input.sk-toggleable__control:checked~label.sk-toggleable__label {background-color: #d4ebff;}#sk-container-id-5 div.sk-label input.sk-toggleable__control:checked~label.sk-toggleable__label {background-color: #d4ebff;}#sk-container-id-5 input.sk-hidden--visually {border: 0;clip: rect(1px 1px 1px 1px);clip: rect(1px, 1px, 1px, 1px);height: 1px;margin: -1px;overflow: hidden;padding: 0;position: absolute;width: 1px;}#sk-container-id-5 div.sk-estimator {font-family: monospace;background-color: #f0f8ff;border: 1px dotted black;border-radius: 0.25em;box-sizing: border-box;margin-bottom: 0.5em;}#sk-container-id-5 div.sk-estimator:hover {background-color: #d4ebff;}#sk-container-id-5 div.sk-parallel-item::after {content: \"\";width: 100%;border-bottom: 1px solid gray;flex-grow: 1;}#sk-container-id-5 div.sk-label:hover label.sk-toggleable__label {background-color: #d4ebff;}#sk-container-id-5 div.sk-serial::before {content: \"\";position: absolute;border-left: 1px solid gray;box-sizing: border-box;top: 0;bottom: 0;left: 50%;z-index: 0;}#sk-container-id-5 div.sk-serial {display: flex;flex-direction: column;align-items: center;background-color: white;padding-right: 0.2em;padding-left: 0.2em;position: relative;}#sk-container-id-5 div.sk-item {position: relative;z-index: 1;}#sk-container-id-5 div.sk-parallel {display: flex;align-items: stretch;justify-content: center;background-color: white;position: relative;}#sk-container-id-5 div.sk-item::before, #sk-container-id-5 div.sk-parallel-item::before {content: \"\";position: absolute;border-left: 1px solid gray;box-sizing: border-box;top: 0;bottom: 0;left: 50%;z-index: -1;}#sk-container-id-5 div.sk-parallel-item {display: flex;flex-direction: column;z-index: 1;position: relative;background-color: white;}#sk-container-id-5 div.sk-parallel-item:first-child::after {align-self: flex-end;width: 50%;}#sk-container-id-5 div.sk-parallel-item:last-child::after {align-self: flex-start;width: 50%;}#sk-container-id-5 div.sk-parallel-item:only-child::after {width: 0;}#sk-container-id-5 div.sk-dashed-wrapped {border: 1px dashed gray;margin: 0 0.4em 0.5em 0.4em;box-sizing: border-box;padding-bottom: 0.4em;background-color: white;}#sk-container-id-5 div.sk-label label {font-family: monospace;font-weight: bold;display: inline-block;line-height: 1.2em;}#sk-container-id-5 div.sk-label-container {text-align: center;}#sk-container-id-5 div.sk-container {/* jupyter's `normalize.less` sets `[hidden] { display: none; }` but bootstrap.min.css set `[hidden] { display: none !important; }` so we also need the `!important` here to be able to override the default hidden behavior on the sphinx rendered scikit-learn.org. See: https://github.com/scikit-learn/scikit-learn/issues/21755 */display: inline-block !important;position: relative;}#sk-container-id-5 div.sk-text-repr-fallback {display: none;}</style><div id=\"sk-container-id-5\" class=\"sk-top-container\"><div class=\"sk-text-repr-fallback\"><pre>AdaBoostRegressor(estimator=DecisionTreeRegressor(), n_estimators=5)</pre><b>In a Jupyter environment, please rerun this cell to show the HTML representation or trust the notebook. <br />On GitHub, the HTML representation is unable to render, please try loading this page with nbviewer.org.</b></div><div class=\"sk-container\" hidden><div class=\"sk-item sk-dashed-wrapped\"><div class=\"sk-label-container\"><div class=\"sk-label sk-toggleable\"><input class=\"sk-toggleable__control sk-hidden--visually\" id=\"sk-estimator-id-11\" type=\"checkbox\" ><label for=\"sk-estimator-id-11\" class=\"sk-toggleable__label sk-toggleable__label-arrow\">AdaBoostRegressor</label><div class=\"sk-toggleable__content\"><pre>AdaBoostRegressor(estimator=DecisionTreeRegressor(), n_estimators=5)</pre></div></div></div><div class=\"sk-parallel\"><div class=\"sk-parallel-item\"><div class=\"sk-item\"><div class=\"sk-label-container\"><div class=\"sk-label sk-toggleable\"><input class=\"sk-toggleable__control sk-hidden--visually\" id=\"sk-estimator-id-12\" type=\"checkbox\" ><label for=\"sk-estimator-id-12\" class=\"sk-toggleable__label sk-toggleable__label-arrow\">estimator: DecisionTreeRegressor</label><div class=\"sk-toggleable__content\"><pre>DecisionTreeRegressor()</pre></div></div></div><div class=\"sk-serial\"><div class=\"sk-item\"><div class=\"sk-estimator sk-toggleable\"><input class=\"sk-toggleable__control sk-hidden--visually\" id=\"sk-estimator-id-13\" type=\"checkbox\" ><label for=\"sk-estimator-id-13\" class=\"sk-toggleable__label sk-toggleable__label-arrow\">DecisionTreeRegressor</label><div class=\"sk-toggleable__content\"><pre>DecisionTreeRegressor()</pre></div></div></div></div></div></div></div></div></div></div>"
      ],
      "text/plain": [
       "AdaBoostRegressor(estimator=DecisionTreeRegressor(), n_estimators=5)"
      ]
     },
     "execution_count": 16,
     "metadata": {},
     "output_type": "execute_result"
    }
   ],
   "source": [
    "# 创建AdaBoost回归器模型\n",
    "model = AdaBoostRegressor(DecisionTreeRegressor(), n_estimators=5)\n",
    "\n",
    "# 训练模型\n",
    "model.fit(X_train, y_train)"
   ]
  },
  {
   "cell_type": "code",
   "execution_count": 17,
   "metadata": {},
   "outputs": [
    {
     "name": "stdout",
     "output_type": "stream",
     "text": [
      "NSE: 0.9998239835207737\n",
      "MSE: 1797.8153275843808\n",
      "MAE: 19.112354606396458\n",
      "RMSE: 42.400652442909184\n",
      "SI: 0.006800268939303403\n",
      "MAPE: 0.7480988840940312\n"
     ]
    }
   ],
   "source": [
    "# 预测\n",
    "X_test, y_test = X[train_size:], y[train_size:]\n",
    "\n",
    "predictions = model.predict(X_test)\n",
    "\n",
    "# 反归一化预测结果\n",
    "predictions = scaler.inverse_transform(predictions.reshape(-1, 1))\n",
    "y_test = scaler.inverse_transform(y_test.reshape(-1, 1))\n",
    "# 计算评价指标\n",
    "nse = calculate_nse(y_test[:,0], predictions[:,0])\n",
    "mse = calculate_mse(y_test[:,0], predictions[:,0])\n",
    "mae = calculate_mae(y_test[:,0], predictions[:,0])\n",
    "rmse = calculate_rmse(y_test, predictions)\n",
    "si = calculate_si(y_test[:,0], predictions[:,0])\n",
    "mape = calculate_mape(y_test[:,0], predictions[:,0])\n",
    "\n",
    "# 输出结果\n",
    "print(\"NSE:\", nse)\n",
    "print(\"MSE:\", mse)\n",
    "print(\"MAE:\", mae)\n",
    "print(\"RMSE:\", rmse)\n",
    "print(\"SI:\", si)\n",
    "print(\"MAPE:\", mape)"
   ]
  },
  {
   "cell_type": "code",
   "execution_count": 18,
   "metadata": {},
   "outputs": [
    {
     "name": "stdout",
     "output_type": "stream",
     "text": [
      "NSE: 0.9997613270224214\n",
      "MAE: 19.97875309856599\n",
      "RMSE: 48.76954692042784\n",
      "MSE: 2378.4687068238127\n",
      "SI: 0.007180333387223171\n",
      "MAPE: 0.8459835071482515\n"
     ]
    }
   ],
   "source": [
    "test_datalabel = pd.read_csv('selected_data.csv').iloc[:,0]\n",
    "test_datalabel = np.r_[test_datalabel].reshape(-1, 1)\n",
    "test_scaler = MinMaxScaler(feature_range=(0, 1))\n",
    "test_data = test_scaler.fit_transform(test_datalabel)\n",
    "test_dataX, test_datay = create_dataset(test_data)\n",
    "test_dataX = np.reshape(test_dataX, (test_dataX.shape[0], -1))\n",
    "test_predictions = model.predict(test_dataX)\n",
    "\n",
    "# 反归一化预测结果\n",
    "test_predictions = test_scaler.inverse_transform(test_predictions.reshape(-1, 1))\n",
    "test_datay = test_scaler.inverse_transform(test_datay.reshape(-1, 1))\n",
    "\n",
    "# 计算评价指标\n",
    "nse = calculate_nse(test_datay[:,0], test_predictions[:,0])\n",
    "mae = calculate_mae(test_datay[:,0], test_predictions[:,0])\n",
    "rmse = calculate_rmse(test_datay[:,0], test_predictions[:,0])\n",
    "mse = calculate_mse(test_datay[:,0], test_predictions[:,0])\n",
    "si = calculate_si(test_datay[:,0], test_predictions[:,0])\n",
    "mape = calculate_mape(test_datay[:,0], test_predictions[:,0])\n",
    "\n",
    "# 输出结果\n",
    "print(\"NSE:\", nse)\n",
    "print(\"MAE:\", mae)\n",
    "print(\"RMSE:\", rmse)\n",
    "print(\"MSE:\", mse)\n",
    "print(\"SI:\", si)\n",
    "print(\"MAPE:\", mape)"
   ]
  }
 ],
 "metadata": {
  "kernelspec": {
   "display_name": "code",
   "language": "python",
   "name": "python3"
  },
  "language_info": {
   "codemirror_mode": {
    "name": "ipython",
    "version": 3
   },
   "file_extension": ".py",
   "mimetype": "text/x-python",
   "name": "python",
   "nbconvert_exporter": "python",
   "pygments_lexer": "ipython3",
   "version": "3.11.5"
  }
 },
 "nbformat": 4,
 "nbformat_minor": 2
}
