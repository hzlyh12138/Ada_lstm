{
 "cells": [
  {
   "cell_type": "code",
   "execution_count": 1,
   "metadata": {},
   "outputs": [
    {
     "name": "stderr",
     "output_type": "stream",
     "text": [
      "2023-11-27 07:24:50.847998: I tensorflow/core/util/port.cc:111] oneDNN custom operations are on. You may see slightly different numerical results due to floating-point round-off errors from different computation orders. To turn them off, set the environment variable `TF_ENABLE_ONEDNN_OPTS=0`.\n",
      "2023-11-27 07:24:50.889940: E tensorflow/compiler/xla/stream_executor/cuda/cuda_dnn.cc:9342] Unable to register cuDNN factory: Attempting to register factory for plugin cuDNN when one has already been registered\n",
      "2023-11-27 07:24:50.889977: E tensorflow/compiler/xla/stream_executor/cuda/cuda_fft.cc:609] Unable to register cuFFT factory: Attempting to register factory for plugin cuFFT when one has already been registered\n",
      "2023-11-27 07:24:50.890007: E tensorflow/compiler/xla/stream_executor/cuda/cuda_blas.cc:1518] Unable to register cuBLAS factory: Attempting to register factory for plugin cuBLAS when one has already been registered\n",
      "2023-11-27 07:24:50.918534: I tensorflow/core/platform/cpu_feature_guard.cc:182] This TensorFlow binary is optimized to use available CPU instructions in performance-critical operations.\n",
      "To enable the following instructions: AVX2 AVX512F AVX512_VNNI FMA, in other operations, rebuild TensorFlow with the appropriate compiler flags.\n",
      "2023-11-27 07:24:51.743835: W tensorflow/compiler/tf2tensorrt/utils/py_utils.cc:38] TF-TRT Warning: Could not find TensorRT\n"
     ]
    }
   ],
   "source": [
    "import os\n",
    "import pickle\n",
    "import warnings\n",
    "import pandas as pd\n",
    "import numpy as np\n",
    "import tensorflow as tf\n",
    "from sklearn.metrics import r2_score\n",
    "from sklearn.ensemble import AdaBoostRegressor\n",
    "from sklearn.preprocessing import MinMaxScaler\n",
    "from scikeras.wrappers import KerasRegressor\n",
    "from keras.models import Sequential\n",
    "from keras.layers import LSTM, Dense\n",
    "from keras.optimizers import Adam\n",
    "from keras.losses import mean_squared_error\n",
    "from sklearn.model_selection import train_test_split\n",
    "from tools import calculate_nse, calculate_rmse, calculate_mae, calculate_mape, calculate_si,calculate_mse\n",
    "from sklearn.model_selection import ParameterGrid\n",
    "from sklearn.model_selection import KFold\n",
    "\n",
    "os.environ[\"CUDA_VISIBLE_DEVICES\"] = \"0\"\n",
    "warnings.filterwarnings(\"ignore\")\n",
    "import tensorflow as tf\n",
    "physical_devices = tf.config.list_physical_devices('GPU')\n",
    "tf.config.experimental.set_memory_growth(physical_devices[0], True)"
   ]
  },
  {
   "cell_type": "code",
   "execution_count": 2,
   "metadata": {},
   "outputs": [],
   "source": [
    "# 读取数据集\n",
    "datalabel210103 = pd.read_excel('fakoulabeldata/202101-03.xls')\n",
    "datalabel210406 = pd.read_excel('fakoulabeldata/202104-06.xls')\n",
    "datalabel210709 = pd.read_excel('fakoulabeldata/202107-09.xls')\n",
    "datalabel220103 = pd.read_excel('fakoulabeldata/202201-03.xls')\n",
    "datalabel220406 = pd.read_excel('fakoulabeldata/202204-06.xls')\n",
    "datalabel220709 = pd.read_excel('fakoulabeldata/202207-09.xls')\n",
    "datalabel221012 = pd.read_excel('fakoulabeldata/202210-12.xls')\n",
    "datalabel230103 = pd.read_excel('fakoulabeldata/202301-03.xls')\n",
    "datalabel230406 = pd.read_excel('fakoulabeldata/202304-06.xls')\n",
    "datalabel230709 = pd.read_excel('fakoulabeldata/202307-09.xls')\n",
    "\n",
    "frame = (datalabel210103.iloc[:,:65333],datalabel210406.iloc[:,:65529],datalabel210709.iloc[:,:65530],\n",
    "       datalabel220103.iloc[:,:65531],datalabel220406.iloc[:,:65525],datalabel220709.iloc[:,:65517],\n",
    "       datalabel221012.iloc[:,:65522],datalabel230103.iloc[:,:65503],datalabel230406.iloc[:,:65495],\n",
    "       datalabel230709.iloc[:,:65534])\n",
    "\n",
    "all_data = pd.concat(frame, ignore_index=True)\n",
    "selected_data = all_data.iloc[:,1]\n",
    "selected_data = np.r_[selected_data].reshape(-1, 1)\n",
    "\n",
    "lookback=8\n",
    "\n",
    "# 归一化数据\n",
    "scaler = MinMaxScaler(feature_range=(0, 1))\n",
    "selected_data = scaler.fit_transform(selected_data)\n",
    "\n",
    "# 将数据转换为适用于LSTM的输入格式\n",
    "def create_dataset(dataset):\n",
    "    X, y = [], []\n",
    "    for i in range(len(dataset) - lookback):\n",
    "        X.append(dataset[i:i+lookback])\n",
    "        y.append(dataset[i+lookback])\n",
    "    return np.array(X), np.array(y).reshape(-1, 1)\n",
    "\n",
    "# 将训练集转换为LSTM的输入格式\n",
    "X, y = create_dataset(selected_data)\n",
    "X = np.reshape(X, (X.shape[0], -1))\n",
    "\n",
    "train_size = int(len(X)*0.8)\n",
    "X_train, y_train = X[:train_size], y[:train_size]\n",
    "X_test, y_test = X[train_size:], y[train_size:]\n",
    "\n",
    "np.random.seed(2023)\n",
    "shuffle_indices = np.random.permutation(len(X_train))\n",
    "X_train = X_train[shuffle_indices]\n",
    "y_train = y_train[shuffle_indices]"
   ]
  },
  {
   "cell_type": "code",
   "execution_count": 3,
   "metadata": {},
   "outputs": [
    {
     "name": "stderr",
     "output_type": "stream",
     "text": [
      "2023-11-27 07:25:03.284463: I tensorflow/core/common_runtime/gpu/gpu_device.cc:1886] Created device /job:localhost/replica:0/task:0/device:GPU:0 with 18859 MB memory:  -> device: 0, name: NVIDIA GeForce RTX 3090, pci bus id: 0000:20:00.0, compute capability: 8.6\n"
     ]
    },
    {
     "name": "stdout",
     "output_type": "stream",
     "text": [
      "INFO:tensorflow:Assets written to: ram://24d0b596eadc45189554c233aa3a2e99/assets\n"
     ]
    },
    {
     "name": "stderr",
     "output_type": "stream",
     "text": [
      "INFO:tensorflow:Assets written to: ram://24d0b596eadc45189554c233aa3a2e99/assets\n",
      "2023-11-27 07:25:07.111302: W tensorflow/core/util/tensor_slice_reader.cc:98] Could not open ram://613bb89b668e436bbcf43139455045c2: INVALID_ARGUMENT: ram://613bb89b668e436bbcf43139455045c2 is a directory.\n",
      "2023-11-27 07:25:09.785937: I tensorflow/compiler/xla/stream_executor/cuda/cuda_dnn.cc:442] Loaded cuDNN version 8905\n",
      "2023-11-27 07:25:10.524785: I tensorflow/compiler/xla/service/service.cc:168] XLA service 0x7f195011c100 initialized for platform CUDA (this does not guarantee that XLA will be used). Devices:\n",
      "2023-11-27 07:25:10.524823: I tensorflow/compiler/xla/service/service.cc:176]   StreamExecutor device (0): NVIDIA GeForce RTX 3090, Compute Capability 8.6\n",
      "2023-11-27 07:25:10.531657: I tensorflow/compiler/mlir/tensorflow/utils/dump_mlir_util.cc:269] disabling MLIR crash reproducer, set env var `MLIR_CRASH_REPRODUCER_DIRECTORY` to enable.\n",
      "2023-11-27 07:25:10.684293: I ./tensorflow/compiler/jit/device_compiler.h:186] Compiled cluster using XLA!  This line is logged at most once for the lifetime of the process.\n"
     ]
    },
    {
     "name": "stdout",
     "output_type": "stream",
     "text": [
      "INFO:tensorflow:Assets written to: ram://883f127a33f44dd6b2036fa74e173ec2/assets\n"
     ]
    },
    {
     "name": "stderr",
     "output_type": "stream",
     "text": [
      "INFO:tensorflow:Assets written to: ram://883f127a33f44dd6b2036fa74e173ec2/assets\n",
      "2023-11-27 07:46:35.191392: W tensorflow/core/util/tensor_slice_reader.cc:98] Could not open ram://62195871c659469db6519ac0c09301a4: INVALID_ARGUMENT: ram://62195871c659469db6519ac0c09301a4 is a directory.\n"
     ]
    },
    {
     "data": {
      "text/html": [
       "<style>#sk-container-id-1 {color: black;}#sk-container-id-1 pre{padding: 0;}#sk-container-id-1 div.sk-toggleable {background-color: white;}#sk-container-id-1 label.sk-toggleable__label {cursor: pointer;display: block;width: 100%;margin-bottom: 0;padding: 0.3em;box-sizing: border-box;text-align: center;}#sk-container-id-1 label.sk-toggleable__label-arrow:before {content: \"▸\";float: left;margin-right: 0.25em;color: #696969;}#sk-container-id-1 label.sk-toggleable__label-arrow:hover:before {color: black;}#sk-container-id-1 div.sk-estimator:hover label.sk-toggleable__label-arrow:before {color: black;}#sk-container-id-1 div.sk-toggleable__content {max-height: 0;max-width: 0;overflow: hidden;text-align: left;background-color: #f0f8ff;}#sk-container-id-1 div.sk-toggleable__content pre {margin: 0.2em;color: black;border-radius: 0.25em;background-color: #f0f8ff;}#sk-container-id-1 input.sk-toggleable__control:checked~div.sk-toggleable__content {max-height: 200px;max-width: 100%;overflow: auto;}#sk-container-id-1 input.sk-toggleable__control:checked~label.sk-toggleable__label-arrow:before {content: \"▾\";}#sk-container-id-1 div.sk-estimator input.sk-toggleable__control:checked~label.sk-toggleable__label {background-color: #d4ebff;}#sk-container-id-1 div.sk-label input.sk-toggleable__control:checked~label.sk-toggleable__label {background-color: #d4ebff;}#sk-container-id-1 input.sk-hidden--visually {border: 0;clip: rect(1px 1px 1px 1px);clip: rect(1px, 1px, 1px, 1px);height: 1px;margin: -1px;overflow: hidden;padding: 0;position: absolute;width: 1px;}#sk-container-id-1 div.sk-estimator {font-family: monospace;background-color: #f0f8ff;border: 1px dotted black;border-radius: 0.25em;box-sizing: border-box;margin-bottom: 0.5em;}#sk-container-id-1 div.sk-estimator:hover {background-color: #d4ebff;}#sk-container-id-1 div.sk-parallel-item::after {content: \"\";width: 100%;border-bottom: 1px solid gray;flex-grow: 1;}#sk-container-id-1 div.sk-label:hover label.sk-toggleable__label {background-color: #d4ebff;}#sk-container-id-1 div.sk-serial::before {content: \"\";position: absolute;border-left: 1px solid gray;box-sizing: border-box;top: 0;bottom: 0;left: 50%;z-index: 0;}#sk-container-id-1 div.sk-serial {display: flex;flex-direction: column;align-items: center;background-color: white;padding-right: 0.2em;padding-left: 0.2em;position: relative;}#sk-container-id-1 div.sk-item {position: relative;z-index: 1;}#sk-container-id-1 div.sk-parallel {display: flex;align-items: stretch;justify-content: center;background-color: white;position: relative;}#sk-container-id-1 div.sk-item::before, #sk-container-id-1 div.sk-parallel-item::before {content: \"\";position: absolute;border-left: 1px solid gray;box-sizing: border-box;top: 0;bottom: 0;left: 50%;z-index: -1;}#sk-container-id-1 div.sk-parallel-item {display: flex;flex-direction: column;z-index: 1;position: relative;background-color: white;}#sk-container-id-1 div.sk-parallel-item:first-child::after {align-self: flex-end;width: 50%;}#sk-container-id-1 div.sk-parallel-item:last-child::after {align-self: flex-start;width: 50%;}#sk-container-id-1 div.sk-parallel-item:only-child::after {width: 0;}#sk-container-id-1 div.sk-dashed-wrapped {border: 1px dashed gray;margin: 0 0.4em 0.5em 0.4em;box-sizing: border-box;padding-bottom: 0.4em;background-color: white;}#sk-container-id-1 div.sk-label label {font-family: monospace;font-weight: bold;display: inline-block;line-height: 1.2em;}#sk-container-id-1 div.sk-label-container {text-align: center;}#sk-container-id-1 div.sk-container {/* jupyter's `normalize.less` sets `[hidden] { display: none; }` but bootstrap.min.css set `[hidden] { display: none !important; }` so we also need the `!important` here to be able to override the default hidden behavior on the sphinx rendered scikit-learn.org. See: https://github.com/scikit-learn/scikit-learn/issues/21755 */display: inline-block !important;position: relative;}#sk-container-id-1 div.sk-text-repr-fallback {display: none;}</style><div id=\"sk-container-id-1\" class=\"sk-top-container\"><div class=\"sk-text-repr-fallback\"><pre>AdaBoostRegressor(base_estimator=KerasRegressor(batch_size=48, build_fn=&lt;keras.src.engine.sequential.Sequential object at 0x7f1c59d5a350&gt;, epochs=20, verbose=0),\n",
       "                  n_estimators=2)</pre><b>In a Jupyter environment, please rerun this cell to show the HTML representation or trust the notebook. <br />On GitHub, the HTML representation is unable to render, please try loading this page with nbviewer.org.</b></div><div class=\"sk-container\" hidden><div class=\"sk-item sk-dashed-wrapped\"><div class=\"sk-label-container\"><div class=\"sk-label sk-toggleable\"><input class=\"sk-toggleable__control sk-hidden--visually\" id=\"sk-estimator-id-1\" type=\"checkbox\" ><label for=\"sk-estimator-id-1\" class=\"sk-toggleable__label sk-toggleable__label-arrow\">AdaBoostRegressor</label><div class=\"sk-toggleable__content\"><pre>AdaBoostRegressor(base_estimator=KerasRegressor(batch_size=48, build_fn=&lt;keras.src.engine.sequential.Sequential object at 0x7f1c59d5a350&gt;, epochs=20, verbose=0),\n",
       "                  n_estimators=2)</pre></div></div></div><div class=\"sk-parallel\"><div class=\"sk-parallel-item\"><div class=\"sk-item\"><div class=\"sk-label-container\"><div class=\"sk-label sk-toggleable\"><input class=\"sk-toggleable__control sk-hidden--visually\" id=\"sk-estimator-id-2\" type=\"checkbox\" ><label for=\"sk-estimator-id-2\" class=\"sk-toggleable__label sk-toggleable__label-arrow\">base_estimator: KerasRegressor</label><div class=\"sk-toggleable__content\"><pre>KerasRegressor(\n",
       "\tmodel=None\n",
       "\tbuild_fn=&lt;keras.src.engine.sequential.Sequential object at 0x7f1c59d5a350&gt;\n",
       "\twarm_start=False\n",
       "\trandom_state=None\n",
       "\toptimizer=rmsprop\n",
       "\tloss=None\n",
       "\tmetrics=None\n",
       "\tbatch_size=48\n",
       "\tvalidation_batch_size=None\n",
       "\tverbose=0\n",
       "\tcallbacks=None\n",
       "\tvalidation_split=0.0\n",
       "\tshuffle=True\n",
       "\trun_eagerly=False\n",
       "\tepochs=20\n",
       ")</pre></div></div></div><div class=\"sk-serial\"><div class=\"sk-item\"><div class=\"sk-estimator sk-toggleable\"><input class=\"sk-toggleable__control sk-hidden--visually\" id=\"sk-estimator-id-3\" type=\"checkbox\" ><label for=\"sk-estimator-id-3\" class=\"sk-toggleable__label sk-toggleable__label-arrow\">KerasRegressor</label><div class=\"sk-toggleable__content\"><pre>KerasRegressor(\n",
       "\tmodel=None\n",
       "\tbuild_fn=&lt;keras.src.engine.sequential.Sequential object at 0x7f1c59d5a350&gt;\n",
       "\twarm_start=False\n",
       "\trandom_state=None\n",
       "\toptimizer=rmsprop\n",
       "\tloss=None\n",
       "\tmetrics=None\n",
       "\tbatch_size=48\n",
       "\tvalidation_batch_size=None\n",
       "\tverbose=0\n",
       "\tcallbacks=None\n",
       "\tvalidation_split=0.0\n",
       "\tshuffle=True\n",
       "\trun_eagerly=False\n",
       "\tepochs=20\n",
       ")</pre></div></div></div></div></div></div></div></div></div></div>"
      ],
      "text/plain": [
       "AdaBoostRegressor(base_estimator=KerasRegressor(batch_size=48, build_fn=<keras.src.engine.sequential.Sequential object at 0x7f1c59d5a350>, epochs=20, verbose=0),\n",
       "                  n_estimators=2)"
      ]
     },
     "execution_count": 3,
     "metadata": {},
     "output_type": "execute_result"
    }
   ],
   "source": [
    "# 定义LSTM模型\n",
    "def create_lstm_model(lookback):\n",
    "    model = Sequential()\n",
    "    model.add(LSTM(units=32, input_shape=(lookback, 1)))\n",
    "    model.add(Dense(1))\n",
    "    model.compile(loss='mean_squared_error', optimizer='adam')\n",
    "    return model\n",
    "\n",
    "lstm_model = KerasRegressor(build_fn=create_lstm_model(lookback=lookback), epochs=20, batch_size=48, verbose=0)\n",
    "adaboost_lstm = AdaBoostRegressor(base_estimator=lstm_model, n_estimators=2)\n",
    "adaboost_lstm.fit(X_train, y_train)\n"
   ]
  },
  {
   "cell_type": "code",
   "execution_count": 4,
   "metadata": {},
   "outputs": [
    {
     "name": "stdout",
     "output_type": "stream",
     "text": [
      "NSE: 0.9998347802530155\n",
      "MAE: 23.481014436628932\n",
      "RMSE: 41.07966098566677\n",
      "MSE: 1687.5385466973128\n",
      "SI: 0.00835465940357251\n",
      "MAPE: 1.073791961563408\n"
     ]
    }
   ],
   "source": [
    "predictions = adaboost_lstm.predict(X_test)\n",
    "\n",
    "# 反归一化预测结果\n",
    "predictions = scaler.inverse_transform(predictions.reshape(-1, 1))\n",
    "y_test = scaler.inverse_transform(y_test.reshape(-1, 1))\n",
    "\n",
    "# 计算评价指标\n",
    "nse = calculate_nse(y_test[:,0], predictions[:,0])\n",
    "mae = calculate_mae(y_test[:,0], predictions[:,0])\n",
    "rmse = calculate_rmse(y_test[:,0], predictions[:,0])\n",
    "mse = calculate_mse(y_test[:,0], predictions[:,0])\n",
    "si = calculate_si(y_test[:,0], predictions[:,0])\n",
    "mape = calculate_mape(y_test[:,0], predictions[:,0])\n",
    "\n",
    "# 输出结果\n",
    "print(\"NSE:\", nse)\n",
    "print(\"MAE:\", mae)\n",
    "print(\"RMSE:\", rmse)\n",
    "print(\"MSE:\", mse)\n",
    "print(\"SI:\", si)\n",
    "print(\"MAPE:\", mape)\n",
    "# print()\n"
   ]
  },
  {
   "cell_type": "code",
   "execution_count": 5,
   "metadata": {},
   "outputs": [
    {
     "name": "stdout",
     "output_type": "stream",
     "text": [
      "NSE: 0.9997929514660394\n",
      "MAE: 21.863407074002097\n",
      "RMSE: 45.42376989822924\n",
      "MSE: 2063.318871767277\n",
      "SI: 0.007857675151067186\n",
      "MAPE: 1.0962021873548322\n"
     ]
    }
   ],
   "source": [
    "test_datalabel = pd.read_csv('selected_data.csv').iloc[:,0]\n",
    "test_datalabel = np.r_[test_datalabel].reshape(-1, 1)\n",
    "test_scaler = MinMaxScaler(feature_range=(0, 1))\n",
    "test_data = test_scaler.fit_transform(test_datalabel)\n",
    "test_dataX, test_datay = create_dataset(test_data)\n",
    "test_dataX = np.reshape(test_dataX, (test_dataX.shape[0], -1))\n",
    "test_predictions = adaboost_lstm.predict(test_dataX)\n",
    "\n",
    "# 反归一化预测结果\n",
    "test_predictions = test_scaler.inverse_transform(test_predictions.reshape(-1, 1))\n",
    "test_datay = test_scaler.inverse_transform(test_datay.reshape(-1, 1))\n",
    "\n",
    "# 计算评价指标\n",
    "nse = calculate_nse(test_datay[:,0], test_predictions[:,0])\n",
    "mae = calculate_mae(test_datay[:,0], test_predictions[:,0])\n",
    "rmse = calculate_rmse(test_datay[:,0], test_predictions[:,0])\n",
    "mse = calculate_mse(test_datay[:,0], test_predictions[:,0])\n",
    "si = calculate_si(test_datay[:,0], test_predictions[:,0])\n",
    "mape = calculate_mape(test_datay[:,0], test_predictions[:,0])\n",
    "\n",
    "# 输出结果\n",
    "print(\"NSE:\", nse)\n",
    "print(\"MAE:\", mae)\n",
    "print(\"RMSE:\", rmse)\n",
    "print(\"MSE:\", mse)\n",
    "print(\"SI:\", si)\n",
    "print(\"MAPE:\", mape)"
   ]
  }
 ],
 "metadata": {
  "kernelspec": {
   "display_name": "code",
   "language": "python",
   "name": "python3"
  },
  "language_info": {
   "codemirror_mode": {
    "name": "ipython",
    "version": 3
   },
   "file_extension": ".py",
   "mimetype": "text/x-python",
   "name": "python",
   "nbconvert_exporter": "python",
   "pygments_lexer": "ipython3",
   "version": "3.11.5"
  }
 },
 "nbformat": 4,
 "nbformat_minor": 2
}
