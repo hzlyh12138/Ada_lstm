{
 "cells": [
  {
   "cell_type": "code",
   "execution_count": 1,
   "metadata": {},
   "outputs": [
    {
     "name": "stderr",
     "output_type": "stream",
     "text": [
      "2023-11-27 06:59:14.951156: I tensorflow/core/util/port.cc:111] oneDNN custom operations are on. You may see slightly different numerical results due to floating-point round-off errors from different computation orders. To turn them off, set the environment variable `TF_ENABLE_ONEDNN_OPTS=0`.\n",
      "2023-11-27 06:59:14.994932: E tensorflow/compiler/xla/stream_executor/cuda/cuda_dnn.cc:9342] Unable to register cuDNN factory: Attempting to register factory for plugin cuDNN when one has already been registered\n",
      "2023-11-27 06:59:14.994967: E tensorflow/compiler/xla/stream_executor/cuda/cuda_fft.cc:609] Unable to register cuFFT factory: Attempting to register factory for plugin cuFFT when one has already been registered\n",
      "2023-11-27 06:59:14.994997: E tensorflow/compiler/xla/stream_executor/cuda/cuda_blas.cc:1518] Unable to register cuBLAS factory: Attempting to register factory for plugin cuBLAS when one has already been registered\n",
      "2023-11-27 06:59:15.003305: I tensorflow/core/platform/cpu_feature_guard.cc:182] This TensorFlow binary is optimized to use available CPU instructions in performance-critical operations.\n",
      "To enable the following instructions: AVX2 AVX512F AVX512_VNNI FMA, in other operations, rebuild TensorFlow with the appropriate compiler flags.\n",
      "2023-11-27 06:59:15.945084: W tensorflow/compiler/tf2tensorrt/utils/py_utils.cc:38] TF-TRT Warning: Could not find TensorRT\n"
     ]
    }
   ],
   "source": [
    "import pandas as pd\n",
    "import numpy as np\n",
    "from sklearn.metrics import r2_score\n",
    "from sklearn.preprocessing import MinMaxScaler\n",
    "from scikeras.wrappers import KerasRegressor\n",
    "from keras.models import Sequential\n",
    "from keras.layers import LSTM, Dense, Dropout\n",
    "from keras.callbacks import EarlyStopping\n",
    "from keras.losses import mean_squared_error\n",
    "from sklearn.model_selection import train_test_split\n",
    "from keras import regularizers\n",
    "from tools import calculate_nse, calculate_mse, calculate_rmse, calculate_mae, calculate_mape, calculate_si\n",
    "\n",
    "import os\n",
    "os.environ[\"CUDA_VISIBLE_DEVICES\"] = \"0\"\n",
    "import tensorflow as tf\n",
    "physical_devices = tf.config.list_physical_devices('GPU')\n",
    "tf.config.experimental.set_memory_growth(physical_devices[0], True)"
   ]
  },
  {
   "cell_type": "code",
   "execution_count": 2,
   "metadata": {},
   "outputs": [],
   "source": [
    "# 读取数据集\n",
    "datalabel210103 = pd.read_excel('fakoulabeldata/202101-03.xls')\n",
    "datalabel210406 = pd.read_excel('fakoulabeldata/202104-06.xls')\n",
    "datalabel210709 = pd.read_excel('fakoulabeldata/202107-09.xls')\n",
    "datalabel220103 = pd.read_excel('fakoulabeldata/202201-03.xls')\n",
    "datalabel220406 = pd.read_excel('fakoulabeldata/202204-06.xls')\n",
    "datalabel220709 = pd.read_excel('fakoulabeldata/202207-09.xls')\n",
    "datalabel221012 = pd.read_excel('fakoulabeldata/202210-12.xls')\n",
    "datalabel230103 = pd.read_excel('fakoulabeldata/202301-03.xls')\n",
    "datalabel230406 = pd.read_excel('fakoulabeldata/202304-06.xls')\n",
    "datalabel230709 = pd.read_excel('fakoulabeldata/202307-09.xls')\n",
    "\n",
    "frame = (datalabel210103.iloc[:,:65333],datalabel210406.iloc[:,:65529],datalabel210709.iloc[:,:65530],\n",
    "       datalabel220103.iloc[:,:65531],datalabel220406.iloc[:,:65525],datalabel220709.iloc[:,:65517],\n",
    "       datalabel221012.iloc[:,:65522],datalabel230103.iloc[:,:65503],datalabel230406.iloc[:,:65495],\n",
    "       datalabel230709.iloc[:,:65534])\n",
    "\n",
    "all_data = pd.concat(frame, ignore_index=True)\n",
    "selected_data = all_data.iloc[:,1]\n",
    "selected_data = np.r_[selected_data].reshape(-1, 1)\n",
    "\n",
    "# 归一化数据\n",
    "scaler = MinMaxScaler(feature_range=(0, 1))\n",
    "selected_data = scaler.fit_transform(selected_data)\n",
    "\n",
    "lookback = 8\n",
    "\n",
    "# 将数据转换为适用于LSTM的输入格式\n",
    "def create_dataset(dataset):\n",
    "    X, y = [], []\n",
    "    for i in range(len(dataset) - lookback):\n",
    "        X.append(dataset[i:i+lookback])\n",
    "        y.append(dataset[i+lookback])\n",
    "    return np.array(X), np.array(y).reshape(-1, 1)\n",
    "\n",
    "# 将训练集转换为LSTM的输入格式\n",
    "X, y = create_dataset(selected_data)\n",
    "X = np.reshape(X, (X.shape[0], -1))\n",
    "\n",
    "train_size = int(len(X)*0.8)\n",
    "X_train, y_train = X[:train_size], y[:train_size]\n",
    "X_test, y_test = X[train_size:], y[train_size:]\n",
    "\n",
    "np.random.seed(2023)\n",
    "shuffle_indices = np.random.permutation(len(X_train))\n",
    "X_train = X_train[shuffle_indices]\n",
    "y_train = y_train[shuffle_indices]"
   ]
  },
  {
   "cell_type": "code",
   "execution_count": 3,
   "metadata": {},
   "outputs": [
    {
     "name": "stderr",
     "output_type": "stream",
     "text": [
      "2023-11-27 06:59:26.995727: I tensorflow/core/common_runtime/gpu/gpu_device.cc:1886] Created device /job:localhost/replica:0/task:0/device:GPU:0 with 18923 MB memory:  -> device: 0, name: NVIDIA GeForce RTX 3090, pci bus id: 0000:20:00.0, compute capability: 8.6\n",
      "2023-11-27 06:59:30.673330: I tensorflow/compiler/xla/stream_executor/cuda/cuda_dnn.cc:442] Loaded cuDNN version 8905\n",
      "2023-11-27 06:59:32.082232: I tensorflow/compiler/xla/service/service.cc:168] XLA service 0x7f00d427e980 initialized for platform CUDA (this does not guarantee that XLA will be used). Devices:\n",
      "2023-11-27 06:59:32.082301: I tensorflow/compiler/xla/service/service.cc:176]   StreamExecutor device (0): NVIDIA GeForce RTX 3090, Compute Capability 8.6\n",
      "2023-11-27 06:59:32.098794: I tensorflow/compiler/mlir/tensorflow/utils/dump_mlir_util.cc:269] disabling MLIR crash reproducer, set env var `MLIR_CRASH_REPRODUCER_DIRECTORY` to enable.\n",
      "2023-11-27 06:59:32.267809: I ./tensorflow/compiler/jit/device_compiler.h:186] Compiled cluster using XLA!  This line is logged at most once for the lifetime of the process.\n"
     ]
    },
    {
     "data": {
      "text/plain": [
       "<keras.src.callbacks.History at 0x7f03ccdb0290>"
      ]
     },
     "execution_count": 3,
     "metadata": {},
     "output_type": "execute_result"
    }
   ],
   "source": [
    "# 定义LSTM模型\n",
    "\n",
    "def create_lstm_model(lookback):\n",
    "    model = Sequential()\n",
    "    model.add(LSTM(units=32, input_shape=(lookback, 1)))\n",
    "    model.add(Dropout(0.2)) \n",
    "    model.add(Dense(1))\n",
    "    model.compile(loss='mean_squared_error', optimizer='adam')\n",
    "    return model\n",
    "lstm_model = create_lstm_model(lookback=lookback)\n",
    "lstm_model.fit(X_train, y_train, epochs=20, batch_size=48, verbose=0)\n"
   ]
  },
  {
   "cell_type": "code",
   "execution_count": 4,
   "metadata": {},
   "outputs": [
    {
     "name": "stdout",
     "output_type": "stream",
     "text": [
      " 472/4094 [==>...........................] - ETA: 12s"
     ]
    },
    {
     "name": "stdout",
     "output_type": "stream",
     "text": [
      "4094/4094 [==============================] - 14s 3ms/step\n",
      "NSE: 0.9997625959632451\n",
      "MSE: 2424.821914314401\n",
      "MAE: 32.93622089724322\n",
      "RMSE: 49.2424807896028\n",
      "SI: 0.011718867955212566\n",
      "MAPE: 1.350800846030144\n"
     ]
    }
   ],
   "source": [
    "# 进行预测\n",
    "predictions = lstm_model.predict(X_test)\n",
    "# 反归一化预测结果\n",
    "predictions = scaler.inverse_transform(predictions.reshape(-1, 1))\n",
    "y_test = scaler.inverse_transform(y_test.reshape(-1, 1))\n",
    "\n",
    "# 计算评价指标\n",
    "nse = calculate_nse(y_test[:,0], predictions[:,0])\n",
    "mse = calculate_mse(y_test[:,0], predictions[:,0])\n",
    "mae = calculate_mae(y_test[:,0], predictions[:,0])\n",
    "rmse = calculate_rmse(y_test, predictions)\n",
    "si = calculate_si(y_test[:,0], predictions[:,0])\n",
    "mape = calculate_mape(y_test[:,0], predictions[:,0])\n",
    "\n",
    "# 输出结果\n",
    "print(\"NSE:\", nse)\n",
    "print(\"MSE:\", mse)\n",
    "print(\"MAE:\", mae)\n",
    "print(\"RMSE:\", rmse)\n",
    "print(\"SI:\", si)\n",
    "print(\"MAPE:\", mape)"
   ]
  },
  {
   "cell_type": "code",
   "execution_count": 5,
   "metadata": {},
   "outputs": [
    {
     "name": "stdout",
     "output_type": "stream",
     "text": [
      "2811/2811 [==============================] - 9s 3ms/step\n",
      "NSE: 0.9997207325010112\n",
      "MAE: 32.93975505717233\n",
      "RMSE: 52.75423056933316\n",
      "MSE: 2783.008842962365\n",
      "SI: 0.01183849771990747\n",
      "MAPE: 1.4203313907396728\n"
     ]
    }
   ],
   "source": [
    "test_datalabel = pd.read_csv('selected_data.csv').iloc[:,0]\n",
    "test_datalabel = np.r_[test_datalabel].reshape(-1, 1)\n",
    "test_scaler = MinMaxScaler(feature_range=(0, 1))\n",
    "test_data = test_scaler.fit_transform(test_datalabel)\n",
    "test_dataX, test_datay = create_dataset(test_data)\n",
    "test_dataX = np.reshape(test_dataX, (test_dataX.shape[0], -1))\n",
    "test_predictions = lstm_model.predict(test_dataX)\n",
    "\n",
    "# 反归一化预测结果\n",
    "test_predictions = test_scaler.inverse_transform(test_predictions.reshape(-1, 1))\n",
    "test_datay = test_scaler.inverse_transform(test_datay.reshape(-1, 1))\n",
    "\n",
    "# 计算评价指标\n",
    "nse = calculate_nse(test_datay[:,0], test_predictions[:,0])\n",
    "mae = calculate_mae(test_datay[:,0], test_predictions[:,0])\n",
    "rmse = calculate_rmse(test_datay[:,0], test_predictions[:,0])\n",
    "mse = calculate_mse(test_datay[:,0], test_predictions[:,0])\n",
    "si = calculate_si(test_datay[:,0], test_predictions[:,0])\n",
    "mape = calculate_mape(test_datay[:,0], test_predictions[:,0])\n",
    "\n",
    "# 输出结果\n",
    "print(\"NSE:\", nse)\n",
    "print(\"MAE:\", mae)\n",
    "print(\"RMSE:\", rmse)\n",
    "print(\"MSE:\", mse)\n",
    "print(\"SI:\", si)\n",
    "print(\"MAPE:\", mape)"
   ]
  }
 ],
 "metadata": {
  "kernelspec": {
   "display_name": "code",
   "language": "python",
   "name": "python3"
  },
  "language_info": {
   "codemirror_mode": {
    "name": "ipython",
    "version": 3
   },
   "file_extension": ".py",
   "mimetype": "text/x-python",
   "name": "python",
   "nbconvert_exporter": "python",
   "pygments_lexer": "ipython3",
   "version": "3.11.5"
  }
 },
 "nbformat": 4,
 "nbformat_minor": 2
}
